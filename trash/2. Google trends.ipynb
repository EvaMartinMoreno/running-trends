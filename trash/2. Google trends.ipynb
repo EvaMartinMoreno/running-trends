{
 "cells": [
  {
   "cell_type": "markdown",
   "metadata": {},
   "source": [
    "# 2. Google trends. "
   ]
  },
  {
   "cell_type": "markdown",
   "metadata": {},
   "source": [
    "Los parámetros a buscar son, desde el 2004 al 2024 por Comunidad Autónoma en España, las palabras siguientes: "
   ]
  },
  {
   "cell_type": "markdown",
   "metadata": {},
   "source": [
    "- Run\n",
    "- Running\n",
    "- Correr\n",
    "- Maraton\n",
    "- Media Maraton"
   ]
  },
  {
   "cell_type": "code",
   "execution_count": 1,
   "metadata": {},
   "outputs": [
    {
     "ename": "TooManyRequestsError",
     "evalue": "The request failed: Google returned a response with code 429",
     "output_type": "error",
     "traceback": [
      "\u001b[31m---------------------------------------------------------------------------\u001b[39m",
      "\u001b[31mTooManyRequestsError\u001b[39m                      Traceback (most recent call last)",
      "\u001b[36mCell\u001b[39m\u001b[36m \u001b[39m\u001b[32mIn[1]\u001b[39m\u001b[32m, line 16\u001b[39m\n\u001b[32m     13\u001b[39m timeframe = \u001b[33mf\u001b[39m\u001b[33m\"\u001b[39m\u001b[38;5;132;01m{\u001b[39;00myear\u001b[38;5;132;01m}\u001b[39;00m\u001b[33m-01-01 \u001b[39m\u001b[38;5;132;01m{\u001b[39;00myear\u001b[38;5;132;01m}\u001b[39;00m\u001b[33m-12-31\u001b[39m\u001b[33m\"\u001b[39m\n\u001b[32m     15\u001b[39m \u001b[38;5;66;03m# Configurar la búsqueda\u001b[39;00m\n\u001b[32m---> \u001b[39m\u001b[32m16\u001b[39m \u001b[43mpytrends\u001b[49m\u001b[43m.\u001b[49m\u001b[43mbuild_payload\u001b[49m\u001b[43m(\u001b[49m\u001b[43mkw_list\u001b[49m\u001b[43m=\u001b[49m\u001b[43m[\u001b[49m\u001b[33;43m'\u001b[39;49m\u001b[33;43mrunning\u001b[39;49m\u001b[33;43m'\u001b[39;49m\u001b[43m]\u001b[49m\u001b[43m,\u001b[49m\u001b[43m \u001b[49m\u001b[43mgeo\u001b[49m\u001b[43m=\u001b[49m\u001b[33;43m'\u001b[39;49m\u001b[33;43mES\u001b[39;49m\u001b[33;43m'\u001b[39;49m\u001b[43m,\u001b[49m\u001b[43m \u001b[49m\u001b[43mtimeframe\u001b[49m\u001b[43m=\u001b[49m\u001b[43mtimeframe\u001b[49m\u001b[43m)\u001b[49m\n\u001b[32m     18\u001b[39m \u001b[38;5;66;03m# Agregar un retraso para evitar el límite de solicitudes\u001b[39;00m\n\u001b[32m     19\u001b[39m \u001b[38;5;28;01mimport\u001b[39;00m\u001b[38;5;250m \u001b[39m\u001b[34;01mtime\u001b[39;00m\n",
      "\u001b[36mFile \u001b[39m\u001b[32mc:\\Users\\evaru\\Downloads\\EVOLVE\\python\\entorno_virtual\\Lib\\site-packages\\pytrends\\request.py:189\u001b[39m, in \u001b[36mTrendReq.build_payload\u001b[39m\u001b[34m(self, kw_list, cat, timeframe, geo, gprop)\u001b[39m\n\u001b[32m    187\u001b[39m \u001b[38;5;28mself\u001b[39m.token_payload[\u001b[33m'\u001b[39m\u001b[33mreq\u001b[39m\u001b[33m'\u001b[39m] = json.dumps(\u001b[38;5;28mself\u001b[39m.token_payload[\u001b[33m'\u001b[39m\u001b[33mreq\u001b[39m\u001b[33m'\u001b[39m])\n\u001b[32m    188\u001b[39m \u001b[38;5;66;03m# get tokens\u001b[39;00m\n\u001b[32m--> \u001b[39m\u001b[32m189\u001b[39m \u001b[38;5;28;43mself\u001b[39;49m\u001b[43m.\u001b[49m\u001b[43m_tokens\u001b[49m\u001b[43m(\u001b[49m\u001b[43m)\u001b[49m\n\u001b[32m    190\u001b[39m \u001b[38;5;28;01mreturn\u001b[39;00m\n",
      "\u001b[36mFile \u001b[39m\u001b[32mc:\\Users\\evaru\\Downloads\\EVOLVE\\python\\entorno_virtual\\Lib\\site-packages\\pytrends\\request.py:195\u001b[39m, in \u001b[36mTrendReq._tokens\u001b[39m\u001b[34m(self)\u001b[39m\n\u001b[32m    193\u001b[39m \u001b[38;5;250m\u001b[39m\u001b[33;03m\"\"\"Makes request to Google to get API tokens for interest over time, interest by region and related queries\"\"\"\u001b[39;00m\n\u001b[32m    194\u001b[39m \u001b[38;5;66;03m# make the request and parse the returned json\u001b[39;00m\n\u001b[32m--> \u001b[39m\u001b[32m195\u001b[39m widget_dicts = \u001b[38;5;28;43mself\u001b[39;49m\u001b[43m.\u001b[49m\u001b[43m_get_data\u001b[49m\u001b[43m(\u001b[49m\n\u001b[32m    196\u001b[39m \u001b[43m    \u001b[49m\u001b[43murl\u001b[49m\u001b[43m=\u001b[49m\u001b[43mTrendReq\u001b[49m\u001b[43m.\u001b[49m\u001b[43mGENERAL_URL\u001b[49m\u001b[43m,\u001b[49m\n\u001b[32m    197\u001b[39m \u001b[43m    \u001b[49m\u001b[43mmethod\u001b[49m\u001b[43m=\u001b[49m\u001b[43mTrendReq\u001b[49m\u001b[43m.\u001b[49m\u001b[43mPOST_METHOD\u001b[49m\u001b[43m,\u001b[49m\n\u001b[32m    198\u001b[39m \u001b[43m    \u001b[49m\u001b[43mparams\u001b[49m\u001b[43m=\u001b[49m\u001b[38;5;28;43mself\u001b[39;49m\u001b[43m.\u001b[49m\u001b[43mtoken_payload\u001b[49m\u001b[43m,\u001b[49m\n\u001b[32m    199\u001b[39m \u001b[43m    \u001b[49m\u001b[43mtrim_chars\u001b[49m\u001b[43m=\u001b[49m\u001b[32;43m4\u001b[39;49m\u001b[43m,\u001b[49m\n\u001b[32m    200\u001b[39m \u001b[43m\u001b[49m\u001b[43m)\u001b[49m[\u001b[33m'\u001b[39m\u001b[33mwidgets\u001b[39m\u001b[33m'\u001b[39m]\n\u001b[32m    201\u001b[39m \u001b[38;5;66;03m# order of the json matters...\u001b[39;00m\n\u001b[32m    202\u001b[39m first_region_token = \u001b[38;5;28;01mTrue\u001b[39;00m\n",
      "\u001b[36mFile \u001b[39m\u001b[32mc:\\Users\\evaru\\Downloads\\EVOLVE\\python\\entorno_virtual\\Lib\\site-packages\\pytrends\\request.py:159\u001b[39m, in \u001b[36mTrendReq._get_data\u001b[39m\u001b[34m(self, url, method, trim_chars, **kwargs)\u001b[39m\n\u001b[32m    157\u001b[39m \u001b[38;5;28;01melse\u001b[39;00m:\n\u001b[32m    158\u001b[39m     \u001b[38;5;28;01mif\u001b[39;00m response.status_code == status_codes.codes.too_many_requests:\n\u001b[32m--> \u001b[39m\u001b[32m159\u001b[39m         \u001b[38;5;28;01mraise\u001b[39;00m exceptions.TooManyRequestsError.from_response(response)\n\u001b[32m    160\u001b[39m     \u001b[38;5;28;01mraise\u001b[39;00m exceptions.ResponseError.from_response(response)\n",
      "\u001b[31mTooManyRequestsError\u001b[39m: The request failed: Google returned a response with code 429"
     ]
    }
   ],
   "source": [
    "from pytrends.request import TrendReq\n",
    "import pandas as pd\n",
    "\n",
    "pytrends = TrendReq(hl='es-ES', tz=360)  # Removed the proxies parameter\n",
    "\n",
    "# Crear un DataFrame vacío para almacenar los resultados\n",
    "df_trends = pd.DataFrame()\n",
    "kw_list = ['running', 'correr', 'jogging', 'trail running', 'maratón', 'ultramaratón']\n",
    "\n",
    "# Iterar por años desde 2004 hasta 2024\n",
    "for year in range(2004, 2025):\n",
    "    # Definir el rango de tiempo para cada año\n",
    "    timeframe = f\"{year}-01-01 {year}-12-31\"\n",
    "    \n",
    "    # Configurar la búsqueda\n",
    "    pytrends.build_payload(kw_list=['running'], geo='ES', timeframe=timeframe)\n",
    "    \n",
    "    # Agregar un retraso para evitar el límite de solicitudes\n",
    "    import time\n",
    "    time.sleep(120)  # Esperar 120 segundos entre solicitudes\n",
    "    \n",
    "    try:\n",
    "        data = pytrends.interest_over_time()\n",
    "        \n",
    "        # Verificar si hay datos y agregar el año como columna\n",
    "        if not data.empty:\n",
    "            data[\"Año\"] = year\n",
    "            df_trends = pd.concat([df_trends, data])\n",
    "    except Exception as e:\n",
    "        print(f\"Error en el año {year}: {e}\")\n",
    "        continue\n",
    "\n",
    "# Resetear el índice y mostrar los datos\n",
    "df_trends.reset_index(inplace=True)\n",
    "print(df_trends.head())"
   ]
  }
 ],
 "metadata": {
  "kernelspec": {
   "display_name": "entorno_virtual",
   "language": "python",
   "name": "python3"
  },
  "language_info": {
   "codemirror_mode": {
    "name": "ipython",
    "version": 3
   },
   "file_extension": ".py",
   "mimetype": "text/x-python",
   "name": "python",
   "nbconvert_exporter": "python",
   "pygments_lexer": "ipython3",
   "version": "3.12.7"
  }
 },
 "nbformat": 4,
 "nbformat_minor": 2
}
