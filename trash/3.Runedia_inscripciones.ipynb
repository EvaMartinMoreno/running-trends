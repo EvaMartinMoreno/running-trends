{
 "cells": [
  {
   "cell_type": "markdown",
   "metadata": {},
   "source": [
    "# 3. Runedia: Carreras populares por CCAA y evolución a lo largo del tiempo"
   ]
  },
  {
   "cell_type": "markdown",
   "metadata": {},
   "source": [
    "Mediante el método scrapping, vamos a extraer los datos de la web \"Runedia\", que es una de las que más información acerca de carreras populares tiene en España. "
   ]
  },
  {
   "cell_type": "code",
   "execution_count": null,
   "metadata": {},
   "outputs": [
    {
     "name": "stdout",
     "output_type": "stream",
     "text": [
      "País: País/Zona, Valor: 0\n",
      "País: España, Valor: espana\n",
      "País: Francia, Valor: francia\n",
      "País: Italia, Valor: italia\n",
      "País: Portugal, Valor: portugal\n",
      "País: Bélgica, Valor: belgica\n",
      "País: Sudamérica, Valor: sudamerica\n",
      "País: Centro América, Valor: america-central\n",
      "País: Estados Unidos, Valor: estados-unidos\n",
      "País: Otros Paises, Valor: altres\n"
     ]
    }
   ],
   "source": [
    "import requests\n",
    "from bs4 import BeautifulSoup\n",
    "import pandas as pd\n",
    "import time\n",
    "\n",
    "# Lista vacía para guardar los datos de las carreras\n",
    "carreras_lista = []\n",
    "\n",
    "# Base de la URL (puede que necesite ajustes si el sitio cambia estructura)\n",
    "url = \"https://runedia.mundodeportivo.com/calendario-carreras/\"\n",
    "response = requests.get(url)\n",
    "\n",
    "soup = BeautifulSoup(response.text, 'html.parser')\n",
    "    \n",
    "# Buscar el elemento select con id \"pais\"\n",
    "select_pais = soup.find('select', {'id': 'pais'})\n",
    "    \n",
    "    if select_pais:\n",
    "        # Extraer las opciones dentro del select\n",
    "        opciones = select_pais.find_all('option')\n",
    "        for opcion in opciones:\n",
    "            pais = opcion.text.strip()\n",
    "            valor = opcion.get('value')\n",
    "            print(f\"País: {pais}, Valor: {valor}\")\n",
    "    else:\n",
    "        print(\"No se encontró el elemento select con id 'pais'.\")\n",
    "else:\n",
    "    print(f\"Error al acceder a la URL: {response.status_code}\")\n"
   ]
  }
 ],
 "metadata": {
  "kernelspec": {
   "display_name": "entorno_virtual",
   "language": "python",
   "name": "python3"
  },
  "language_info": {
   "codemirror_mode": {
    "name": "ipython",
    "version": 3
   },
   "file_extension": ".py",
   "mimetype": "text/x-python",
   "name": "python",
   "nbconvert_exporter": "python",
   "pygments_lexer": "ipython3",
   "version": "3.12.7"
  }
 },
 "nbformat": 4,
 "nbformat_minor": 2
}
