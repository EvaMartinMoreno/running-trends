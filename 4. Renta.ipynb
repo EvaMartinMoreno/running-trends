{
 "cells": [
  {
   "cell_type": "markdown",
   "metadata": {},
   "source": [
    "# 4. Renta por persona y por unidad de consumo"
   ]
  },
  {
   "cell_type": "markdown",
   "metadata": {},
   "source": [
    "Tenemos este archivo descargado desde la página web del INE, vamos a limpiarlo para poder realizar los datos estadísicos correspondientes."
   ]
  },
  {
   "cell_type": "code",
   "execution_count": 14,
   "metadata": {},
   "outputs": [
    {
     "name": "stdout",
     "output_type": "stream",
     "text": [
      "<class 'pandas.core.frame.DataFrame'>\n",
      "RangeIndex: 1360 entries, 0 to 1359\n",
      "Data columns (total 4 columns):\n",
      " #   Column                                                      Non-Null Count  Dtype  \n",
      "---  ------                                                      --------------  -----  \n",
      " 0   Comunidades y Ciudades Autónomas                            1360 non-null   object \n",
      " 1   Renta anual neta media por persona y por unidad de consumo  1360 non-null   object \n",
      " 2   Periodo                                                     1360 non-null   int64  \n",
      " 3   Total                                                       1360 non-null   float64\n",
      "dtypes: float64(1), int64(1), object(2)\n",
      "memory usage: 42.6+ KB\n"
     ]
    },
    {
     "data": {
      "text/html": [
       "<div>\n",
       "<style scoped>\n",
       "    .dataframe tbody tr th:only-of-type {\n",
       "        vertical-align: middle;\n",
       "    }\n",
       "\n",
       "    .dataframe tbody tr th {\n",
       "        vertical-align: top;\n",
       "    }\n",
       "\n",
       "    .dataframe thead th {\n",
       "        text-align: right;\n",
       "    }\n",
       "</style>\n",
       "<table border=\"1\" class=\"dataframe\">\n",
       "  <thead>\n",
       "    <tr style=\"text-align: right;\">\n",
       "      <th></th>\n",
       "      <th>Comunidades y Ciudades Autónomas</th>\n",
       "      <th>Renta anual neta media por persona y por unidad de consumo</th>\n",
       "      <th>Periodo</th>\n",
       "      <th>Total</th>\n",
       "    </tr>\n",
       "  </thead>\n",
       "  <tbody>\n",
       "    <tr>\n",
       "      <th>0</th>\n",
       "      <td>Total Nacional</td>\n",
       "      <td>Renta neta media por persona</td>\n",
       "      <td>2024</td>\n",
       "      <td>14.807</td>\n",
       "    </tr>\n",
       "    <tr>\n",
       "      <th>1</th>\n",
       "      <td>Total Nacional</td>\n",
       "      <td>Renta neta media por persona</td>\n",
       "      <td>2023</td>\n",
       "      <td>14.082</td>\n",
       "    </tr>\n",
       "    <tr>\n",
       "      <th>2</th>\n",
       "      <td>Total Nacional</td>\n",
       "      <td>Renta neta media por persona</td>\n",
       "      <td>2022</td>\n",
       "      <td>13.008</td>\n",
       "    </tr>\n",
       "    <tr>\n",
       "      <th>3</th>\n",
       "      <td>Total Nacional</td>\n",
       "      <td>Renta neta media por persona</td>\n",
       "      <td>2021</td>\n",
       "      <td>12.269</td>\n",
       "    </tr>\n",
       "    <tr>\n",
       "      <th>4</th>\n",
       "      <td>Total Nacional</td>\n",
       "      <td>Renta neta media por persona</td>\n",
       "      <td>2020</td>\n",
       "      <td>12.292</td>\n",
       "    </tr>\n",
       "  </tbody>\n",
       "</table>\n",
       "</div>"
      ],
      "text/plain": [
       "  Comunidades y Ciudades Autónomas  \\\n",
       "0                   Total Nacional   \n",
       "1                   Total Nacional   \n",
       "2                   Total Nacional   \n",
       "3                   Total Nacional   \n",
       "4                   Total Nacional   \n",
       "\n",
       "  Renta anual neta media por persona y por unidad de consumo  Periodo   Total  \n",
       "0                       Renta neta media por persona             2024  14.807  \n",
       "1                       Renta neta media por persona             2023  14.082  \n",
       "2                       Renta neta media por persona             2022  13.008  \n",
       "3                       Renta neta media por persona             2021  12.269  \n",
       "4                       Renta neta media por persona             2020  12.292  "
      ]
     },
     "metadata": {},
     "output_type": "display_data"
    }
   ],
   "source": [
    "import pandas as pd\n",
    "import numpy as np\n",
    "import matplotlib.pyplot as plt\n",
    "import seaborn as sns\n",
    "\n",
    "#Load the data\n",
    "df_renta = pd.read_csv('Renta por persona y unidad consumo por comunidades autónomas.csv', sep=';')\n",
    "\n",
    "#Visión genérica inicial\n",
    "df_renta.info()\n",
    "df_renta.describe()\n",
    "display(df_renta.head())"
   ]
  }
 ],
 "metadata": {
  "kernelspec": {
   "display_name": "entorno_virtual",
   "language": "python",
   "name": "python3"
  },
  "language_info": {
   "codemirror_mode": {
    "name": "ipython",
    "version": 3
   },
   "file_extension": ".py",
   "mimetype": "text/x-python",
   "name": "python",
   "nbconvert_exporter": "python",
   "pygments_lexer": "ipython3",
   "version": "3.12.7"
  }
 },
 "nbformat": 4,
 "nbformat_minor": 2
}
