{
 "cells": [
  {
   "cell_type": "markdown",
   "metadata": {},
   "source": [
    "# 6. Tasa de paro por CCAA en el tiempo"
   ]
  },
  {
   "cell_type": "markdown",
   "metadata": {},
   "source": [
    "Tenemos este archivo descargado desde la página web del INE, vamos a limpiarlo para poder realizar los datos estadísicos correspondientes."
   ]
  },
  {
   "cell_type": "code",
   "execution_count": 1,
   "metadata": {},
   "outputs": [
    {
     "name": "stdout",
     "output_type": "stream",
     "text": [
      "<class 'pandas.core.frame.DataFrame'>\n",
      "RangeIndex: 38640 entries, 0 to 38639\n",
      "Data columns (total 5 columns):\n",
      " #   Column                            Non-Null Count  Dtype \n",
      "---  ------                            --------------  ----- \n",
      " 0   Sexo                              38640 non-null  object\n",
      " 1   Comunidades y Ciudades Autónomas  38640 non-null  object\n",
      " 2   Edad                              38640 non-null  object\n",
      " 3   Periodo                           38640 non-null  object\n",
      " 4   Total                             38640 non-null  object\n",
      "dtypes: object(5)\n",
      "memory usage: 1.5+ MB\n"
     ]
    },
    {
     "data": {
      "text/html": [
       "<div>\n",
       "<style scoped>\n",
       "    .dataframe tbody tr th:only-of-type {\n",
       "        vertical-align: middle;\n",
       "    }\n",
       "\n",
       "    .dataframe tbody tr th {\n",
       "        vertical-align: top;\n",
       "    }\n",
       "\n",
       "    .dataframe thead th {\n",
       "        text-align: right;\n",
       "    }\n",
       "</style>\n",
       "<table border=\"1\" class=\"dataframe\">\n",
       "  <thead>\n",
       "    <tr style=\"text-align: right;\">\n",
       "      <th></th>\n",
       "      <th>Sexo</th>\n",
       "      <th>Comunidades y Ciudades Autónomas</th>\n",
       "      <th>Edad</th>\n",
       "      <th>Periodo</th>\n",
       "      <th>Total</th>\n",
       "    </tr>\n",
       "  </thead>\n",
       "  <tbody>\n",
       "    <tr>\n",
       "      <th>0</th>\n",
       "      <td>Ambos sexos</td>\n",
       "      <td>Total Nacional</td>\n",
       "      <td>Total</td>\n",
       "      <td>2024T4</td>\n",
       "      <td>10,61</td>\n",
       "    </tr>\n",
       "    <tr>\n",
       "      <th>1</th>\n",
       "      <td>Ambos sexos</td>\n",
       "      <td>Total Nacional</td>\n",
       "      <td>Total</td>\n",
       "      <td>2024T3</td>\n",
       "      <td>11,21</td>\n",
       "    </tr>\n",
       "    <tr>\n",
       "      <th>2</th>\n",
       "      <td>Ambos sexos</td>\n",
       "      <td>Total Nacional</td>\n",
       "      <td>Total</td>\n",
       "      <td>2024T2</td>\n",
       "      <td>11,27</td>\n",
       "    </tr>\n",
       "    <tr>\n",
       "      <th>3</th>\n",
       "      <td>Ambos sexos</td>\n",
       "      <td>Total Nacional</td>\n",
       "      <td>Total</td>\n",
       "      <td>2024T1</td>\n",
       "      <td>12,29</td>\n",
       "    </tr>\n",
       "    <tr>\n",
       "      <th>4</th>\n",
       "      <td>Ambos sexos</td>\n",
       "      <td>Total Nacional</td>\n",
       "      <td>Total</td>\n",
       "      <td>2023T4</td>\n",
       "      <td>11,8</td>\n",
       "    </tr>\n",
       "  </tbody>\n",
       "</table>\n",
       "</div>"
      ],
      "text/plain": [
       "          Sexo Comunidades y Ciudades Autónomas   Edad Periodo  Total\n",
       "0  Ambos sexos                   Total Nacional  Total  2024T4  10,61\n",
       "1  Ambos sexos                   Total Nacional  Total  2024T3  11,21\n",
       "2  Ambos sexos                   Total Nacional  Total  2024T2  11,27\n",
       "3  Ambos sexos                   Total Nacional  Total  2024T1  12,29\n",
       "4  Ambos sexos                   Total Nacional  Total  2023T4   11,8"
      ]
     },
     "metadata": {},
     "output_type": "display_data"
    }
   ],
   "source": [
    "import pandas as pd\n",
    "import numpy as np\n",
    "import matplotlib.pyplot as plt\n",
    "import seaborn as sns\n",
    "\n",
    "#Load the data\n",
    "df_paro = pd.read_csv('tasaparoESP_ccaa.csv', sep=';')\n",
    "\n",
    "#Visión genérica inicial\n",
    "df_paro.info()\n",
    "df_paro.describe()\n",
    "display(df_paro.head())"
   ]
  },
  {
   "cell_type": "code",
   "execution_count": 2,
   "metadata": {},
   "outputs": [
    {
     "name": "stdout",
     "output_type": "stream",
     "text": [
      "          Sexo Comunidades y Ciudades Autónomas   Edad  Periodo  Total\n",
      "0  Ambos sexos                   Total Nacional  Total     2024  10,61\n",
      "1  Ambos sexos                   Total Nacional  Total     2024  11,21\n",
      "2  Ambos sexos                   Total Nacional  Total     2024  11,27\n",
      "3  Ambos sexos                   Total Nacional  Total     2024  12,29\n",
      "4  Ambos sexos                   Total Nacional  Total     2023   11,8\n"
     ]
    }
   ],
   "source": [
    "#Agrupar por año\n",
    "df_paro['Periodo'] = df_paro['Periodo'].str[:4].astype(int)\n",
    "print(df_paro.head())"
   ]
  },
  {
   "cell_type": "code",
   "execution_count": 3,
   "metadata": {},
   "outputs": [],
   "source": [
    "#Cambiar el nombre a la columna \"Comunidades y Ciudades Autónomas\"\n",
    "df_paro.rename(columns={'Comunidades y Ciudades Autónomas': 'CCAA'}, inplace=True)"
   ]
  },
  {
   "cell_type": "code",
   "execution_count": 4,
   "metadata": {},
   "outputs": [
    {
     "data": {
      "text/plain": [
       "array(['Total Nacional', '01 Andalucía', '02 Aragón',\n",
       "       '03 Asturias, Principado de', '04 Balears, Illes', '05 Canarias',\n",
       "       '06 Cantabria', '07 Castilla y León', '08 Castilla - La Mancha',\n",
       "       '09 Cataluña', '10 Comunitat Valenciana', '11 Extremadura',\n",
       "       '12 Galicia', '13 Madrid, Comunidad de', '14 Murcia, Región de',\n",
       "       '15 Navarra, Comunidad Foral de', '16 País Vasco', '17 Rioja, La',\n",
       "       '18 Ceuta', '19 Melilla'], dtype=object)"
      ]
     },
     "execution_count": 4,
     "metadata": {},
     "output_type": "execute_result"
    }
   ],
   "source": [
    "df_paro['CCAA'].unique()"
   ]
  },
  {
   "cell_type": "code",
   "execution_count": 12,
   "metadata": {},
   "outputs": [
    {
     "data": {
      "text/html": [
       "<div>\n",
       "<style scoped>\n",
       "    .dataframe tbody tr th:only-of-type {\n",
       "        vertical-align: middle;\n",
       "    }\n",
       "\n",
       "    .dataframe tbody tr th {\n",
       "        vertical-align: top;\n",
       "    }\n",
       "\n",
       "    .dataframe thead th {\n",
       "        text-align: right;\n",
       "    }\n",
       "</style>\n",
       "<table border=\"1\" class=\"dataframe\">\n",
       "  <thead>\n",
       "    <tr style=\"text-align: right;\">\n",
       "      <th></th>\n",
       "      <th>Sexo</th>\n",
       "      <th>CCAA</th>\n",
       "      <th>Edad</th>\n",
       "      <th>Periodo</th>\n",
       "      <th>Total</th>\n",
       "    </tr>\n",
       "  </thead>\n",
       "  <tbody>\n",
       "    <tr>\n",
       "      <th>0</th>\n",
       "      <td>Ambos sexos</td>\n",
       "      <td>TotalNacional</td>\n",
       "      <td>Total</td>\n",
       "      <td>2024</td>\n",
       "      <td>NaN</td>\n",
       "    </tr>\n",
       "    <tr>\n",
       "      <th>1</th>\n",
       "      <td>Ambos sexos</td>\n",
       "      <td>TotalNacional</td>\n",
       "      <td>Total</td>\n",
       "      <td>2024</td>\n",
       "      <td>NaN</td>\n",
       "    </tr>\n",
       "    <tr>\n",
       "      <th>2</th>\n",
       "      <td>Ambos sexos</td>\n",
       "      <td>TotalNacional</td>\n",
       "      <td>Total</td>\n",
       "      <td>2024</td>\n",
       "      <td>NaN</td>\n",
       "    </tr>\n",
       "    <tr>\n",
       "      <th>3</th>\n",
       "      <td>Ambos sexos</td>\n",
       "      <td>TotalNacional</td>\n",
       "      <td>Total</td>\n",
       "      <td>2024</td>\n",
       "      <td>45.38</td>\n",
       "    </tr>\n",
       "    <tr>\n",
       "      <th>4</th>\n",
       "      <td>Ambos sexos</td>\n",
       "      <td>TotalNacional</td>\n",
       "      <td>Total</td>\n",
       "      <td>2023</td>\n",
       "      <td>46.57</td>\n",
       "    </tr>\n",
       "  </tbody>\n",
       "</table>\n",
       "</div>"
      ],
      "text/plain": [
       "          Sexo           CCAA   Edad  Periodo  Total\n",
       "0  Ambos sexos  TotalNacional  Total     2024    NaN\n",
       "1  Ambos sexos  TotalNacional  Total     2024    NaN\n",
       "2  Ambos sexos  TotalNacional  Total     2024    NaN\n",
       "3  Ambos sexos  TotalNacional  Total     2024  45.38\n",
       "4  Ambos sexos  TotalNacional  Total     2023  46.57"
      ]
     },
     "metadata": {},
     "output_type": "display_data"
    }
   ],
   "source": [
    "#Cambiar valores de la columna \"CCAA\"\n",
    "df_paro['CCAA'] = df_paro['CCAA'].replace({\n",
    "\n",
    "     \"01 Andalucía\": \"Andalucia\",\n",
    "    \"02 Aragón\": \"Aragon\",\n",
    "    \"03 Asturias, Principado de\": \"Asturias\",\n",
    "    \"04 Balears, Illes\": \"Baleares\",\n",
    "    \"05 Canarias\": \"Canarias\",\n",
    "    \"06 Cantabria\": \"Cantabria\",\n",
    "    \"07 Castilla y León\": \"CastillaLeon\",\n",
    "    \"08 Castilla - La Mancha\": \"CastillaLaMancha\",\n",
    "    \"09 Cataluña\": \"Catalunya\",\n",
    "    \"10 Comunitat Valenciana\": \"ComunidadValenciana\",\n",
    "    \"11 Extremadura\": \"Extremadura\",\n",
    "    \"12 Galicia\": \"Galicia\",\n",
    "    \"13 Madrid, Comunidad de\": \"Madrid\",\n",
    "    \"14 Murcia, Región de\": \"Murcia\",\n",
    "    \"15 Navarra, Comunidad Foral de\": \"Navarra\",\n",
    "    \"16 País Vasco\": \"PaisVasco\",\n",
    "    \"17 Rioja, La\": \"LaRioja\",\n",
    "    \"18 Ceuta\": \"Ceuta\",\n",
    "    \"19 Melilla\": \"Melilla\",\n",
    "    \"Total Nacional\": \"TotalNacional\",\n",
    "    })\n",
    "\n",
    "display(df_paro.head())"
   ]
  },
  {
   "cell_type": "code",
   "execution_count": 13,
   "metadata": {},
   "outputs": [
    {
     "ename": "AttributeError",
     "evalue": "Can only use .str accessor with string values!",
     "output_type": "error",
     "traceback": [
      "\u001b[31m---------------------------------------------------------------------------\u001b[39m",
      "\u001b[31mAttributeError\u001b[39m                            Traceback (most recent call last)",
      "\u001b[36mCell\u001b[39m\u001b[36m \u001b[39m\u001b[32mIn[13]\u001b[39m\u001b[32m, line 2\u001b[39m\n\u001b[32m      1\u001b[39m \u001b[38;5;66;03m#Convertir la columna \"Total\" a float\u001b[39;00m\n\u001b[32m----> \u001b[39m\u001b[32m2\u001b[39m df_paro[\u001b[33m'\u001b[39m\u001b[33mTotal\u001b[39m\u001b[33m'\u001b[39m] = \u001b[43mdf_paro\u001b[49m\u001b[43m[\u001b[49m\u001b[33;43m'\u001b[39;49m\u001b[33;43mTotal\u001b[39;49m\u001b[33;43m'\u001b[39;49m\u001b[43m]\u001b[49m\u001b[43m.\u001b[49m\u001b[43mstr\u001b[49m.replace(\u001b[33m'\u001b[39m\u001b[33m,\u001b[39m\u001b[33m'\u001b[39m, \u001b[33m'\u001b[39m\u001b[33m.\u001b[39m\u001b[33m'\u001b[39m, regex=\u001b[38;5;28;01mFalse\u001b[39;00m)\n\u001b[32m      4\u001b[39m \u001b[38;5;66;03m# Reemplazar cadenas vacías con NaN\u001b[39;00m\n\u001b[32m      5\u001b[39m df_paro[\u001b[33m'\u001b[39m\u001b[33mTotal\u001b[39m\u001b[33m'\u001b[39m] = df_paro[\u001b[33m'\u001b[39m\u001b[33mTotal\u001b[39m\u001b[33m'\u001b[39m].replace(\u001b[33m'\u001b[39m\u001b[33m'\u001b[39m, np.nan)\n",
      "\u001b[36mFile \u001b[39m\u001b[32mc:\\Users\\evaru\\Downloads\\EVOLVE\\python\\entorno_virtual\\Lib\\site-packages\\pandas\\core\\generic.py:6299\u001b[39m, in \u001b[36mNDFrame.__getattr__\u001b[39m\u001b[34m(self, name)\u001b[39m\n\u001b[32m   6292\u001b[39m \u001b[38;5;28;01mif\u001b[39;00m (\n\u001b[32m   6293\u001b[39m     name \u001b[38;5;129;01mnot\u001b[39;00m \u001b[38;5;129;01min\u001b[39;00m \u001b[38;5;28mself\u001b[39m._internal_names_set\n\u001b[32m   6294\u001b[39m     \u001b[38;5;129;01mand\u001b[39;00m name \u001b[38;5;129;01mnot\u001b[39;00m \u001b[38;5;129;01min\u001b[39;00m \u001b[38;5;28mself\u001b[39m._metadata\n\u001b[32m   6295\u001b[39m     \u001b[38;5;129;01mand\u001b[39;00m name \u001b[38;5;129;01mnot\u001b[39;00m \u001b[38;5;129;01min\u001b[39;00m \u001b[38;5;28mself\u001b[39m._accessors\n\u001b[32m   6296\u001b[39m     \u001b[38;5;129;01mand\u001b[39;00m \u001b[38;5;28mself\u001b[39m._info_axis._can_hold_identifiers_and_holds_name(name)\n\u001b[32m   6297\u001b[39m ):\n\u001b[32m   6298\u001b[39m     \u001b[38;5;28;01mreturn\u001b[39;00m \u001b[38;5;28mself\u001b[39m[name]\n\u001b[32m-> \u001b[39m\u001b[32m6299\u001b[39m \u001b[38;5;28;01mreturn\u001b[39;00m \u001b[38;5;28;43mobject\u001b[39;49m\u001b[43m.\u001b[49m\u001b[34;43m__getattribute__\u001b[39;49m\u001b[43m(\u001b[49m\u001b[38;5;28;43mself\u001b[39;49m\u001b[43m,\u001b[49m\u001b[43m \u001b[49m\u001b[43mname\u001b[49m\u001b[43m)\u001b[49m\n",
      "\u001b[36mFile \u001b[39m\u001b[32mc:\\Users\\evaru\\Downloads\\EVOLVE\\python\\entorno_virtual\\Lib\\site-packages\\pandas\\core\\accessor.py:224\u001b[39m, in \u001b[36mCachedAccessor.__get__\u001b[39m\u001b[34m(self, obj, cls)\u001b[39m\n\u001b[32m    221\u001b[39m \u001b[38;5;28;01mif\u001b[39;00m obj \u001b[38;5;129;01mis\u001b[39;00m \u001b[38;5;28;01mNone\u001b[39;00m:\n\u001b[32m    222\u001b[39m     \u001b[38;5;66;03m# we're accessing the attribute of the class, i.e., Dataset.geo\u001b[39;00m\n\u001b[32m    223\u001b[39m     \u001b[38;5;28;01mreturn\u001b[39;00m \u001b[38;5;28mself\u001b[39m._accessor\n\u001b[32m--> \u001b[39m\u001b[32m224\u001b[39m accessor_obj = \u001b[38;5;28;43mself\u001b[39;49m\u001b[43m.\u001b[49m\u001b[43m_accessor\u001b[49m\u001b[43m(\u001b[49m\u001b[43mobj\u001b[49m\u001b[43m)\u001b[49m\n\u001b[32m    225\u001b[39m \u001b[38;5;66;03m# Replace the property with the accessor object. Inspired by:\u001b[39;00m\n\u001b[32m    226\u001b[39m \u001b[38;5;66;03m# https://www.pydanny.com/cached-property.html\u001b[39;00m\n\u001b[32m    227\u001b[39m \u001b[38;5;66;03m# We need to use object.__setattr__ because we overwrite __setattr__ on\u001b[39;00m\n\u001b[32m    228\u001b[39m \u001b[38;5;66;03m# NDFrame\u001b[39;00m\n\u001b[32m    229\u001b[39m \u001b[38;5;28mobject\u001b[39m.\u001b[34m__setattr__\u001b[39m(obj, \u001b[38;5;28mself\u001b[39m._name, accessor_obj)\n",
      "\u001b[36mFile \u001b[39m\u001b[32mc:\\Users\\evaru\\Downloads\\EVOLVE\\python\\entorno_virtual\\Lib\\site-packages\\pandas\\core\\strings\\accessor.py:191\u001b[39m, in \u001b[36mStringMethods.__init__\u001b[39m\u001b[34m(self, data)\u001b[39m\n\u001b[32m    188\u001b[39m \u001b[38;5;28;01mdef\u001b[39;00m\u001b[38;5;250m \u001b[39m\u001b[34m__init__\u001b[39m(\u001b[38;5;28mself\u001b[39m, data) -> \u001b[38;5;28;01mNone\u001b[39;00m:\n\u001b[32m    189\u001b[39m     \u001b[38;5;28;01mfrom\u001b[39;00m\u001b[38;5;250m \u001b[39m\u001b[34;01mpandas\u001b[39;00m\u001b[34;01m.\u001b[39;00m\u001b[34;01mcore\u001b[39;00m\u001b[34;01m.\u001b[39;00m\u001b[34;01marrays\u001b[39;00m\u001b[34;01m.\u001b[39;00m\u001b[34;01mstring_\u001b[39;00m\u001b[38;5;250m \u001b[39m\u001b[38;5;28;01mimport\u001b[39;00m StringDtype\n\u001b[32m--> \u001b[39m\u001b[32m191\u001b[39m     \u001b[38;5;28mself\u001b[39m._inferred_dtype = \u001b[38;5;28;43mself\u001b[39;49m\u001b[43m.\u001b[49m\u001b[43m_validate\u001b[49m\u001b[43m(\u001b[49m\u001b[43mdata\u001b[49m\u001b[43m)\u001b[49m\n\u001b[32m    192\u001b[39m     \u001b[38;5;28mself\u001b[39m._is_categorical = \u001b[38;5;28misinstance\u001b[39m(data.dtype, CategoricalDtype)\n\u001b[32m    193\u001b[39m     \u001b[38;5;28mself\u001b[39m._is_string = \u001b[38;5;28misinstance\u001b[39m(data.dtype, StringDtype)\n",
      "\u001b[36mFile \u001b[39m\u001b[32mc:\\Users\\evaru\\Downloads\\EVOLVE\\python\\entorno_virtual\\Lib\\site-packages\\pandas\\core\\strings\\accessor.py:245\u001b[39m, in \u001b[36mStringMethods._validate\u001b[39m\u001b[34m(data)\u001b[39m\n\u001b[32m    242\u001b[39m inferred_dtype = lib.infer_dtype(values, skipna=\u001b[38;5;28;01mTrue\u001b[39;00m)\n\u001b[32m    244\u001b[39m \u001b[38;5;28;01mif\u001b[39;00m inferred_dtype \u001b[38;5;129;01mnot\u001b[39;00m \u001b[38;5;129;01min\u001b[39;00m allowed_types:\n\u001b[32m--> \u001b[39m\u001b[32m245\u001b[39m     \u001b[38;5;28;01mraise\u001b[39;00m \u001b[38;5;167;01mAttributeError\u001b[39;00m(\u001b[33m\"\u001b[39m\u001b[33mCan only use .str accessor with string values!\u001b[39m\u001b[33m\"\u001b[39m)\n\u001b[32m    246\u001b[39m \u001b[38;5;28;01mreturn\u001b[39;00m inferred_dtype\n",
      "\u001b[31mAttributeError\u001b[39m: Can only use .str accessor with string values!"
     ]
    }
   ],
   "source": [
    "#Convertir la columna \"Total\" a float\n",
    "df_paro['Total'] = df_paro['Total'].str.replace(',', '.', regex=False)\n",
    "\n",
    "# Reemplazar cadenas vacías con NaN\n",
    "df_paro['Total'] = df_paro['Total'].replace('', np.nan)\n",
    "\n",
    "# Convertir la columna a float\n",
    "df_paro['Total'] = df_paro['Total'].astype(float)\n",
    "df_paro.info()"
   ]
  }
 ],
 "metadata": {
  "kernelspec": {
   "display_name": "entorno_virtual",
   "language": "python",
   "name": "python3"
  },
  "language_info": {
   "codemirror_mode": {
    "name": "ipython",
    "version": 3
   },
   "file_extension": ".py",
   "mimetype": "text/x-python",
   "name": "python",
   "nbconvert_exporter": "python",
   "pygments_lexer": "ipython3",
   "version": "3.12.7"
  }
 },
 "nbformat": 4,
 "nbformat_minor": 2
}
